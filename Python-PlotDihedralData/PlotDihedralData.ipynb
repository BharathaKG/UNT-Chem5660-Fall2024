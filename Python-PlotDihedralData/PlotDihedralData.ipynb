{
  "nbformat": 4,
  "nbformat_minor": 0,
  "metadata": {
    "colab": {
      "provenance": [],
      "authorship_tag": "ABX9TyOmQC1arYOdO2sN+cChRFQX",
      "include_colab_link": true
    },
    "kernelspec": {
      "name": "python3",
      "display_name": "Python 3"
    },
    "language_info": {
      "name": "python"
    }
  },
  "cells": [
    {
      "cell_type": "markdown",
      "metadata": {
        "id": "view-in-github",
        "colab_type": "text"
      },
      "source": [
        "<a href=\"https://colab.research.google.com/github/valsson-group/UNT-Chem5660-Fall2024/blob/main/Python-PlotDihedralData/PlotDihedralData.ipynb\" target=\"_parent\"><img src=\"https://colab.research.google.com/assets/colab-badge.svg\" alt=\"Open In Colab\"/></a>"
      ]
    },
    {
      "cell_type": "markdown",
      "source": [
        "## Making Data Plots Using Python\n",
        "\n",
        "In this notebook we show how we can use Numpy and Matplotlib to make plot of data series.\n",
        "\n",
        "The following resources can be useful:\n",
        "  - [Matplotlib Documentation](https://matplotlib.org/stable/index.html)\n",
        "  - [Matplotlib Cheat Sheets](https://matplotlib.org/cheatsheets/)\n",
        "  - [Matplotlib Tutorials](https://matplotlib.org/stable/tutorials/index.html)\n",
        "  - [NumPy User Guide](https://numpy.org/doc/stable/user/index.html)"
      ],
      "metadata": {
        "id": "SRXF8e0UIPuD"
      }
    },
    {
      "cell_type": "markdown",
      "source": [
        "We first import the numpy and matplotlib packages"
      ],
      "metadata": {
        "id": "9D7JF7vZJOcC"
      }
    },
    {
      "cell_type": "code",
      "execution_count": null,
      "metadata": {
        "id": "-gxPd7CH5dH0"
      },
      "outputs": [],
      "source": [
        "import numpy as np\n",
        "import matplotlib.pyplot as plt\n",
        "plt.rcParams['figure.dpi'] = 150"
      ]
    },
    {
      "cell_type": "markdown",
      "source": [
        "## Loading the Datasets\n",
        "\n",
        "The first step is to load the datasets we want to plot.\n",
        "\n",
        "Since we are here runnig this notebook on Google Colab, we need to upload the datafiles onto the runtime instance we are using. You can do this by selecting the folder icon here on the left and dragging the files there.\n",
        "\n",
        "**Note these files are only temporarily saved there and will be deleted once this runtime is terminated. Thus, do not use this save or keep files**.\n",
        "\n",
        "Once we have uploaded the data files, we will load the data into a numpy array using the `np.loadtxt(\"<name-of-datafile>\")` function, where `<name-of-datafile>` is the name of a given data file that we want to load. The filename should be  enclosed in parenthesis.\n",
        "\n",
        "### Example\n",
        "Here we will use the `Benzamidine_Scan_HF_cc-pVDZ.relaxscanact.dat` data file from a ORCA that we downlaod from the course Github repo as an example. We will load this data file as\n",
        "```\n",
        "data_hf_ccpvdz = np.loadtxt(\"Benzamidine_Scan_HF_cc-pVDZ.relaxscanact.dat\")\n",
        "```\n",
        "will load the data from the file `Benzamidine_Scan_HF_cc-pVDZ.relaxscanact.dat` into a numpy array with the variable name `data_hf_ccpvdz`.\n",
        "\n",
        "We can access the first column of the data by using `data_hf_ccpvdz[:,0]` and the second column by using `data_hf_ccpvdz[:,1]` (note that python indexing starts from 0).\n",
        "\n",
        "### Your Own Data\n",
        "\n",
        "For your own data sets, you need to do a seperate `np.loadtxt` call for each data file, and use a seperate variable name for each data set."
      ],
      "metadata": {
        "id": "tYh74vMPJXPV"
      }
    },
    {
      "cell_type": "code",
      "source": [
        "# This is only needed to download example data\n",
        "%%capture\n",
        "!wget https://raw.githubusercontent.com/valsson-group/UNT-Chem5660-Fall2024/main/Python-PlotDihedralData/Benzamidine_Scan_HF_cc-pVDZ.relaxscanact.dat\n",
        "!wget https://raw.githubusercontent.com/valsson-group/UNT-Chem5660-Fall2024/main/Python-PlotDihedralData/Benzamidine_Scan_HF_cc-pvdz_g16_tot_ener.txt\n"
      ],
      "metadata": {
        "id": "1_xhmDWvWz14"
      },
      "execution_count": null,
      "outputs": []
    },
    {
      "cell_type": "code",
      "source": [
        "# This is just an example\n",
        "data_hf_ccpvdz = np.loadtxt(\"Benzamidine_Scan_HF_cc-pVDZ.relaxscanact.dat\")\n",
        "data_hf_ccpvdz_g16 = np.loadtxt(\"Benzamidine_Scan_HF_cc-pvdz_g16_tot_ener.txt\")\n",
        "\n",
        "# For your own data, you need to write a seperate np.loadtxt call for each data file,\n",
        "# something like\n",
        "# data_blyp = np.loadtxt(\"<name-of-datafile>\")\n",
        "# where you replace <name-of-datafile> with the filename.\n",
        "\n",
        "\n",
        "# This is just to show how you can print the datasets.\n",
        "# This is not really needed, so you just comment it out\n",
        "# by adding # in front of the line.\n",
        "print(\"Column 1:\")\n",
        "print(data_hf_ccpvdz[:,0])\n",
        "print(\"\")\n",
        "print(\"Column 2:\")\n",
        "print(data_hf_ccpvdz[:,1])\n",
        "\n",
        "\n"
      ],
      "metadata": {
        "id": "e-mb8UMI5ygp"
      },
      "execution_count": null,
      "outputs": []
    },
    {
      "cell_type": "markdown",
      "source": [
        "## Plotting Data\n",
        "\n",
        "We then plot the data by using the `plt.plot(...)` function in matplotlib.\n",
        "\n",
        "### The plt.plot function\n",
        "You need to have a seperate `plt.plot(...)` call for each data set. For example,\n",
        "```\n",
        "plt.plot(data_hf_ccpvdz[:,0],\n",
        "         (data_hf_ccpvdz[:,1]-np.min(data_hf_ccpvdz[:,1]))*Hartree2kJmol,\n",
        "         \"--x\",\n",
        "         markersize=5,\n",
        "         label=\"HF/cc-pVDZ\")\n",
        "```\n",
        "where we plot the first column of the data set on the x-axis (`x=data_b3lyp_ccpvdz[:,0]`) and the second column of the data on the y-axis (` y=data_b3lpy_ccpvdz[:,1]`.\n",
        "\n",
        "### Aligning the minimum of the y-axis to zero\n",
        "Note that here we are comparing energies obtained with different levels of theory so to make sure that the minimum of each curve is aligned with zero use the `np.min` function to find the minimum of the data set and substract that from that data vector for the y-axis. It will depend on the data if you want to do this or not.\n",
        "\n",
        "### Converting units\n",
        "Here the input data is given in Hartree so we will need to convert the values to kJ/mol. We do this by multiplying the `(data_hf_ccpvdz[:,1]-np.min(data_hf_ccpvdz[:,1]))` by a variable `Hartree2kJmol` that we have defined. It will depend on the data if you want to do this or not. If you want to use kcal/mol, you should use a differnet conversion factor.\n",
        "\n",
        "### Labelling curves\n",
        "You can label each curve with a seperate label by using the `label=\"<label-text>\"` keyword. The legend that shows this labels is activated by the `plt.legend()` call.\n",
        "\n",
        "### Axis labels\n",
        "You can add a label to the x- and y-axis by using the `plt.xlabel(\"...\")` and `plt.ylabel(\"...\") functions.\n",
        "\n",
        "### Range of y-axis\n",
        "You change the range of the y-axis by using the `plt.ylim` function. For example, we set it to the range from 0 to 6 by using `plt.ylim([0,6])`. You will need to adjust this to your data.\n",
        "\n",
        "### Location of x-axis tics\n",
        "We can set the location of the tics on the x-axis by using the `plt.xticks(np.arange(0,390,30))` command. You might need to adjust to your data if you have a differnt range of the x-axis, for exmaple by using `plt.xticks(np.arange(-180,190,30))`.\n",
        "\n",
        "### Saving figure\n",
        "The figure will be shown in the notebook. We can also save the figure to a file by using the `plt.savefig(\"plot.png\")` function. The extension used in filename determines the format (e.g., `.jpg` or `.png`). You can then download the file from the file manager here on the left side.\n",
        "\n",
        "Note that this file is only temporarily saved there and will be deleted once this runtime is terminated. Thus, you should always download the figure to your computer right away.\n",
        "\n"
      ],
      "metadata": {
        "id": "0UrwxNLgPb2z"
      }
    },
    {
      "cell_type": "code",
      "source": [
        "# Define conversion factors\n",
        "Hartree2kJmol = 2625.50\n",
        "Hartree2kcalmol = 627.51\n",
        "Hartree2eV = 27.211\n",
        "\n",
        "# Plot different data sets.\n",
        "# You need to add a seperate plt.plot call for each data set\n",
        "\n",
        "plt.plot(data_hf_ccpvdz[:,0],\n",
        "         (data_hf_ccpvdz[:,1]-np.min(data_hf_ccpvdz[:,1]))*Hartree2kJmol,\n",
        "         \"--x\",\n",
        "         markersize=5,\n",
        "         label=\"HF/cc-pVDZ (ORCA 6)\")\n",
        "\n",
        "plt.plot(data_hf_ccpvdz_g16[:,0],\n",
        "         (data_hf_ccpvdz_g16[:,1]-np.min(data_hf_ccpvdz_g16[:,1]))*Hartree2kJmol,\n",
        "         \"--o\",\n",
        "         markersize=5,\n",
        "         label=\"HF/cc-pVDZ (Gaussian 16)\")\n",
        "\n",
        "\n",
        "# Show legend with labels\n",
        "plt.legend()\n",
        "\n",
        "# Set x- and y-axis labels\n",
        "plt.xlabel(\"Dihedral Angle [Degrees] \")\n",
        "plt.ylabel(\"Potential Energy [kJ/mol]\")\n",
        "\n",
        "# Set range of the y-axis, in this case from 0 to 6\n",
        "plt.ylim([0,20])\n",
        "\n",
        "# Set x-tics to be at -180, -150, -120, ..., 180\n",
        "plt.xticks(np.arange(-180,210,30))\n",
        "\n",
        "# Save the figure to a file\n",
        "plt.savefig(\"plot_example.png\")\n",
        "\n"
      ],
      "metadata": {
        "id": "IcUxdMEW590Z"
      },
      "execution_count": null,
      "outputs": []
    },
    {
      "cell_type": "markdown",
      "source": [
        "## Your Own Data\n",
        "\n",
        "You can now use the cell below to plot your own data.\n",
        "\n",
        "\n",
        "### Saving figure\n",
        "The figure will be shown in the notebook. We can also save the figure to a file by using the `plt.savefig(\"plot.png\")` function. The extension used in filename determines the format (e.g., `.jpg` or `.png`). You can then download the file from the file manager here on the left side.\n",
        "\n",
        "Note that this file is only temporarily saved there and will be deleted once this runtime is terminated. Thus, you should always download the figure to your computer right away.\n",
        "\n"
      ],
      "metadata": {
        "id": "nh7A6CzfisB7"
      }
    },
    {
      "cell_type": "code",
      "source": [
        "# Define conversion factors\n",
        "Hartree2kJmol = 2625.50\n",
        "Hartree2kcalmol = 627.51\n",
        "Hartree2eV = 27.211\n",
        "\n",
        "\n",
        "# Load data sets\n",
        "# Copy this to load more data sets\n",
        "data_1 = np.loadtxt(\"<name-of-datafile-1>\")\n",
        "data_2 = np.loadtxt(\"<name-of-datafile-2>\")\n",
        "\n",
        "\n",
        "# Plot different data sets.\n",
        "# You need to add a seperate plt.plot call for each data set\n",
        "\n",
        "plt.plot(data_1[:,0],\n",
        "         (data_1[:,1]-np.min(data_1[:,1]))*Hartree2kJmol,\n",
        "         \"--x\",\n",
        "         markersize=5,\n",
        "         label=\"<label for data set 1>\")\n",
        "\n",
        "plt.plot(data_2[:,0],\n",
        "         (data_2[:,1]-np.min(data_2[:,1]))*Hartree2kJmol,\n",
        "         \"--x\",\n",
        "         markersize=5,\n",
        "         label=\"<label for data set 2>\")\n",
        "\n",
        "\n",
        "\n",
        "# Show legend with labels\n",
        "plt.legend()\n",
        "\n",
        "# Set x- and y-axis labels\n",
        "plt.xlabel(\"<x-axis label. Remember to include units!>\")\n",
        "plt.ylabel(\"<y-axis label. Remember to include units!>\")\n",
        "\n",
        "\n",
        "# Set range of the y-axis, in this case from 0 to 20\n",
        "plt.ylim([0,20])\n",
        "\n",
        "# Set x-tics to be at -180, -150, -120, ..., 180\n",
        "plt.xticks(np.arange(-180,210,30))\n",
        "\n",
        "# Save the figure to a file\n",
        "# You can then download the file from the file manager here on the left side\n",
        "plt.savefig(\"plot.png\")\n",
        "\n"
      ],
      "metadata": {
        "id": "Y5YHnUnBi6T3"
      },
      "execution_count": null,
      "outputs": []
    }
  ]
}